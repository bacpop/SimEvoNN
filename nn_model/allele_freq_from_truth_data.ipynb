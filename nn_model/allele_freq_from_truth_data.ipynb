{
 "cells": [
  {
   "cell_type": "code",
   "execution_count": 114,
   "metadata": {
    "collapsed": true,
    "ExecuteTime": {
     "end_time": "2023-08-09T10:13:27.663081Z",
     "start_time": "2023-08-09T10:13:27.656998Z"
    }
   },
   "outputs": [],
   "source": [
    "import pandas as pd\n",
    "import numpy as np\n",
    "import json\n",
    "import allel"
   ]
  },
  {
   "cell_type": "markdown",
   "source": [
    "## Truth data is gathered from the LTEE Stanford experiment. Data is obtained from Good, B., McDonald, M., Barrick, J. et al. The dynamics of molecular evolution over 60,000 generations. Nature 551, 45–50 (2017). https://doi.org/10.1038/nature24287\n",
    "and\n",
    "Tenaillon, O., Barrick, J., Ribeck, N. et al. Tempo and mode of genome evolution in a 50,000-generation experiment. Nature 536, 165–170 (2016). https://doi.org/10.1038/nature18959"
   ],
   "metadata": {
    "collapsed": false
   }
  },
  {
   "cell_type": "code",
   "execution_count": 105,
   "outputs": [],
   "source": [
    "#df = pd.read_csv(\"~/Downloads/p1_well_mixed_state_timecourse.txt\")"
   ],
   "metadata": {
    "collapsed": false,
    "ExecuteTime": {
     "end_time": "2023-08-09T09:59:54.563612Z",
     "start_time": "2023-08-09T09:59:54.547046Z"
    }
   }
  },
  {
   "cell_type": "code",
   "execution_count": 106,
   "outputs": [
    {
     "data": {
      "text/plain": "Index(['0', ' 1000', ' 1500', ' 2000', ' 2500', ' 3000', ' 4000', ' 4500',\n       ' 5000', ' 5500',\n       ...\n       ' 55500', ' 56000', ' 56500', ' 57000', ' 57500', ' 58000', ' 58500',\n       ' 59000', ' 59500', ' 60000'],\n      dtype='object', length=117)"
     },
     "execution_count": 106,
     "metadata": {},
     "output_type": "execute_result"
    }
   ],
   "source": [
    "df.columns"
   ],
   "metadata": {
    "collapsed": false,
    "ExecuteTime": {
     "end_time": "2023-08-09T09:59:54.828099Z",
     "start_time": "2023-08-09T09:59:54.822417Z"
    }
   }
  },
  {
   "cell_type": "code",
   "execution_count": 107,
   "outputs": [],
   "source": [
    "columns_to_drop = set()\n",
    "for col in df.columns:\n",
    "    if int(col) > 50000:\n",
    "        columns_to_drop.add(col)"
   ],
   "metadata": {
    "collapsed": false,
    "ExecuteTime": {
     "end_time": "2023-08-09T09:59:55.188215Z",
     "start_time": "2023-08-09T09:59:55.184645Z"
    }
   }
  },
  {
   "cell_type": "code",
   "execution_count": 108,
   "outputs": [],
   "source": [
    "df.drop(columns=columns_to_drop, inplace=True)"
   ],
   "metadata": {
    "collapsed": false,
    "ExecuteTime": {
     "end_time": "2023-08-09T09:59:55.544137Z",
     "start_time": "2023-08-09T09:59:55.540147Z"
    }
   }
  },
  {
   "cell_type": "code",
   "execution_count": 109,
   "outputs": [],
   "source": [
    "np_df = df.T.to_numpy()"
   ],
   "metadata": {
    "collapsed": false,
    "ExecuteTime": {
     "end_time": "2023-08-09T09:59:55.935009Z",
     "start_time": "2023-08-09T09:59:55.932516Z"
    }
   }
  },
  {
   "cell_type": "code",
   "execution_count": 110,
   "outputs": [],
   "source": [
    "allele_freq_var = np.var(np_df/np_df.max())"
   ],
   "metadata": {
    "collapsed": false,
    "ExecuteTime": {
     "end_time": "2023-08-09T09:59:56.526922Z",
     "start_time": "2023-08-09T09:59:56.520576Z"
    }
   }
  },
  {
   "cell_type": "code",
   "execution_count": 111,
   "outputs": [],
   "source": [
    "\"\"\"\n",
    "with open(\"/Users/berk/Projects/jlees/data/truth_data/p1/p1_allele_freq_var.json\", \"w\") as fh:\n",
    "    json.dump(\n",
    "        {\"allele_freq_var\" : allele_freq_var}, fh\n",
    "    )\n",
    "\"\"\""
   ],
   "metadata": {
    "collapsed": false,
    "ExecuteTime": {
     "end_time": "2023-08-09T09:59:57.163751Z",
     "start_time": "2023-08-09T09:59:57.157704Z"
    }
   }
  },
  {
   "cell_type": "code",
   "execution_count": 113,
   "outputs": [],
   "source": [
    "del df\n",
    "del np_df"
   ],
   "metadata": {
    "collapsed": false,
    "ExecuteTime": {
     "end_time": "2023-08-09T10:04:10.743735Z",
     "start_time": "2023-08-09T10:04:10.740706Z"
    }
   }
  },
  {
   "cell_type": "code",
   "execution_count": 126,
   "outputs": [],
   "source": [
    "## Mutation rates are calculated from the spectrum_counts.csv file from the Good, B., McDonald, M., Barrick, J. et al. The dynamics of molecular evolution over 60,000 generations. Nature 551, 45–50 (2017). https://doi.org/10.1038/nature24287\n",
    "## Note that only SNP mutations are taken into account\n",
    "##mutation_rate = 92/50000\n",
    "with open(\"/Users/berk/Projects/jlees/data/truth_data/m6/m6_mutation_rate.json\", \"w\") as fh:\n",
    "    json.dump(\n",
    "        {\"mutation_rate\" : mutation_rate}, fh\n",
    "    )"
   ],
   "metadata": {
    "collapsed": false,
    "ExecuteTime": {
     "end_time": "2023-08-09T10:21:59.305542Z",
     "start_time": "2023-08-09T10:21:59.301620Z"
    }
   }
  },
  {
   "cell_type": "markdown",
   "source": [
    "## Constructing Haplotype array"
   ],
   "metadata": {
    "collapsed": false
   }
  },
  {
   "cell_type": "code",
   "execution_count": 127,
   "outputs": [],
   "source": [
    "df_mut_array = pd.read_csv(\"~/Downloads/LTEE-Ecoli-data 2023-08-08 03_55_51.csv\")"
   ],
   "metadata": {
    "collapsed": false,
    "ExecuteTime": {
     "end_time": "2023-08-09T11:13:45.453971Z",
     "start_time": "2023-08-09T11:13:45.202984Z"
    }
   }
  },
  {
   "cell_type": "code",
   "execution_count": 129,
   "outputs": [],
   "source": [
    "df_cleaned = df_mut_array.drop(columns=[\"Unnamed: 0\", \"time\", \"mutation_category\", \"mutator_status\", 'html_mutation_annotation', 'treatment', 'clone', 'type', 'snp_type', 'start_position', 'gene_list', 'gene_name', 'gene_position', 'gene_product', 'locus_tag', 'html_gene_name', 'html_gene_product', 'html_position'])"
   ],
   "metadata": {
    "collapsed": false,
    "ExecuteTime": {
     "end_time": "2023-08-09T11:19:58.725310Z",
     "start_time": "2023-08-09T11:19:58.708739Z"
    }
   }
  },
  {
   "cell_type": "code",
   "execution_count": 131,
   "outputs": [
    {
     "data": {
      "text/plain": "            strain  end_position  html_mutation\npopulation                                     \nAra+1          336           336            336\nAra+2          311           311            311\nAra+3        10799         10799          10799\nAra+4          328           328            328\nAra+5          359           359            359\nAra+6        18859         18859          18859\nAra-1         4712          4712           4712\nAra-2         7549          7549           7549\nAra-3         1800          1800           1800\nAra-4         7863          7863           7863\nAra-5          416           416            416\nAra-6          359           359            359",
      "text/html": "<div>\n<style scoped>\n    .dataframe tbody tr th:only-of-type {\n        vertical-align: middle;\n    }\n\n    .dataframe tbody tr th {\n        vertical-align: top;\n    }\n\n    .dataframe thead th {\n        text-align: right;\n    }\n</style>\n<table border=\"1\" class=\"dataframe\">\n  <thead>\n    <tr style=\"text-align: right;\">\n      <th></th>\n      <th>strain</th>\n      <th>end_position</th>\n      <th>html_mutation</th>\n    </tr>\n    <tr>\n      <th>population</th>\n      <th></th>\n      <th></th>\n      <th></th>\n    </tr>\n  </thead>\n  <tbody>\n    <tr>\n      <th>Ara+1</th>\n      <td>336</td>\n      <td>336</td>\n      <td>336</td>\n    </tr>\n    <tr>\n      <th>Ara+2</th>\n      <td>311</td>\n      <td>311</td>\n      <td>311</td>\n    </tr>\n    <tr>\n      <th>Ara+3</th>\n      <td>10799</td>\n      <td>10799</td>\n      <td>10799</td>\n    </tr>\n    <tr>\n      <th>Ara+4</th>\n      <td>328</td>\n      <td>328</td>\n      <td>328</td>\n    </tr>\n    <tr>\n      <th>Ara+5</th>\n      <td>359</td>\n      <td>359</td>\n      <td>359</td>\n    </tr>\n    <tr>\n      <th>Ara+6</th>\n      <td>18859</td>\n      <td>18859</td>\n      <td>18859</td>\n    </tr>\n    <tr>\n      <th>Ara-1</th>\n      <td>4712</td>\n      <td>4712</td>\n      <td>4712</td>\n    </tr>\n    <tr>\n      <th>Ara-2</th>\n      <td>7549</td>\n      <td>7549</td>\n      <td>7549</td>\n    </tr>\n    <tr>\n      <th>Ara-3</th>\n      <td>1800</td>\n      <td>1800</td>\n      <td>1800</td>\n    </tr>\n    <tr>\n      <th>Ara-4</th>\n      <td>7863</td>\n      <td>7863</td>\n      <td>7863</td>\n    </tr>\n    <tr>\n      <th>Ara-5</th>\n      <td>416</td>\n      <td>416</td>\n      <td>416</td>\n    </tr>\n    <tr>\n      <th>Ara-6</th>\n      <td>359</td>\n      <td>359</td>\n      <td>359</td>\n    </tr>\n  </tbody>\n</table>\n</div>"
     },
     "execution_count": 131,
     "metadata": {},
     "output_type": "execute_result"
    }
   ],
   "source": [
    "df_cleaned.groupby('population').count()"
   ],
   "metadata": {
    "collapsed": false,
    "ExecuteTime": {
     "end_time": "2023-08-09T11:21:00.808986Z",
     "start_time": "2023-08-09T11:21:00.790568Z"
    }
   }
  },
  {
   "cell_type": "code",
   "execution_count": 380,
   "outputs": [],
   "source": [
    "ara = df_cleaned[df_cleaned['population'] == \"Ara-1\"]"
   ],
   "metadata": {
    "collapsed": false,
    "ExecuteTime": {
     "end_time": "2023-08-09T12:40:43.535278Z",
     "start_time": "2023-08-09T12:40:43.529515Z"
    }
   }
  },
  {
   "cell_type": "code",
   "execution_count": 381,
   "outputs": [],
   "source": [
    "max_mut_pos = ara['end_position'].max()"
   ],
   "metadata": {
    "collapsed": false,
    "ExecuteTime": {
     "end_time": "2023-08-09T12:40:43.553832Z",
     "start_time": "2023-08-09T12:40:43.533937Z"
    }
   }
  },
  {
   "cell_type": "code",
   "execution_count": 382,
   "outputs": [],
   "source": [
    "n_strains = ara['strain'].nunique()"
   ],
   "metadata": {
    "collapsed": false,
    "ExecuteTime": {
     "end_time": "2023-08-09T12:40:43.553995Z",
     "start_time": "2023-08-09T12:40:43.538355Z"
    }
   }
  },
  {
   "cell_type": "code",
   "execution_count": 383,
   "outputs": [],
   "source": [
    "hap_array = np.zeros([n_strains, max_mut_pos+1], dtype=np.int8)"
   ],
   "metadata": {
    "collapsed": false,
    "ExecuteTime": {
     "end_time": "2023-08-09T12:40:43.554116Z",
     "start_time": "2023-08-09T12:40:43.540175Z"
    }
   }
  },
  {
   "cell_type": "code",
   "execution_count": 384,
   "outputs": [],
   "source": [
    "all_positions = set()\n",
    "for idx, pos in enumerate(ara.groupby('strain')['end_position']):\n",
    "    for p in list(pos[1]):\n",
    "        all_positions.add(p)\n",
    "        hap_array[idx,p] += 1"
   ],
   "metadata": {
    "collapsed": false,
    "ExecuteTime": {
     "end_time": "2023-08-09T12:40:43.584625Z",
     "start_time": "2023-08-09T12:40:43.543351Z"
    }
   }
  },
  {
   "cell_type": "code",
   "execution_count": 385,
   "outputs": [],
   "source": [
    "haplotype_array = allel.HaplotypeArray(hap_array)"
   ],
   "metadata": {
    "collapsed": false,
    "ExecuteTime": {
     "end_time": "2023-08-09T12:40:43.584774Z",
     "start_time": "2023-08-09T12:40:43.564800Z"
    }
   }
  },
  {
   "cell_type": "code",
   "execution_count": 386,
   "outputs": [],
   "source": [
    "poses = list(sorted(all_positions))\n",
    "allele_counts_array = haplotype_array.count_alleles()"
   ],
   "metadata": {
    "collapsed": false,
    "ExecuteTime": {
     "end_time": "2023-08-09T12:40:43.855255Z",
     "start_time": "2023-08-09T12:40:43.568328Z"
    }
   }
  },
  {
   "cell_type": "code",
   "execution_count": 387,
   "outputs": [],
   "source": [
    "pi = allel.sequence_diversity(pos=poses, ac=allele_counts_array)"
   ],
   "metadata": {
    "collapsed": false,
    "ExecuteTime": {
     "end_time": "2023-08-09T12:40:43.864783Z",
     "start_time": "2023-08-09T12:40:43.856763Z"
    }
   }
  },
  {
   "cell_type": "code",
   "execution_count": 388,
   "outputs": [],
   "source": [
    "theta = allel.watterson_theta(poses, allele_counts_array)"
   ],
   "metadata": {
    "collapsed": false,
    "ExecuteTime": {
     "end_time": "2023-08-09T12:40:43.886006Z",
     "start_time": "2023-08-09T12:40:43.861350Z"
    }
   }
  },
  {
   "cell_type": "code",
   "execution_count": 389,
   "outputs": [],
   "source": [
    "tajimas_d = allel.tajima_d(allele_counts_array)"
   ],
   "metadata": {
    "collapsed": false,
    "ExecuteTime": {
     "end_time": "2023-08-09T12:40:43.903300Z",
     "start_time": "2023-08-09T12:40:43.888090Z"
    }
   }
  },
  {
   "cell_type": "code",
   "execution_count": 390,
   "outputs": [],
   "source": [
    "garuda_h = allel.garud_h(haplotype_array)"
   ],
   "metadata": {
    "collapsed": false,
    "ExecuteTime": {
     "end_time": "2023-08-09T12:41:01.553295Z",
     "start_time": "2023-08-09T12:40:58.594638Z"
    }
   }
  },
  {
   "cell_type": "code",
   "execution_count": 391,
   "outputs": [],
   "source": [
    "hap_div = allel.haplotype_diversity(haplotype_array)"
   ],
   "metadata": {
    "collapsed": false,
    "ExecuteTime": {
     "end_time": "2023-08-09T12:41:04.549397Z",
     "start_time": "2023-08-09T12:41:01.585064Z"
    }
   }
  },
  {
   "cell_type": "code",
   "execution_count": 392,
   "outputs": [],
   "source": [
    "seq_stats = {   'pi': pi,\n",
    "    'theta_w': theta,\n",
    "    'tajimas_d': tajimas_d,\n",
    "    'h1':garuda_h[0],\n",
    "    'h2_h1':garuda_h[3],\n",
    "    'haplotype_diversity':hap_div\n",
    "}"
   ],
   "metadata": {
    "collapsed": false,
    "ExecuteTime": {
     "end_time": "2023-08-09T12:41:04.553571Z",
     "start_time": "2023-08-09T12:41:04.551593Z"
    }
   }
  },
  {
   "cell_type": "code",
   "execution_count": 393,
   "outputs": [],
   "source": [
    "with open('/Users/berk/Projects/jlees/data/truth_data/m1/seq_stats.json', 'w') as fhand:\n",
    "    json.dump(\n",
    "        seq_stats, fhand\n",
    "    )"
   ],
   "metadata": {
    "collapsed": false,
    "ExecuteTime": {
     "end_time": "2023-08-09T12:41:04.557457Z",
     "start_time": "2023-08-09T12:41:04.553774Z"
    }
   }
  },
  {
   "cell_type": "code",
   "execution_count": 394,
   "outputs": [],
   "source": [
    "del hap_array\n",
    "del haplotype_array\n",
    "del seq_stats"
   ],
   "metadata": {
    "collapsed": false,
    "ExecuteTime": {
     "end_time": "2023-08-09T12:41:23.627323Z",
     "start_time": "2023-08-09T12:41:23.622876Z"
    }
   }
  },
  {
   "cell_type": "markdown",
   "source": [
    "## Unite all the files to a single csv"
   ],
   "metadata": {
    "collapsed": false
   }
  },
  {
   "cell_type": "code",
   "execution_count": 411,
   "outputs": [],
   "source": [
    "nn_model_indices = {\n",
    "    'max_H' : 0,\n",
    "    'min_H' : 1,\n",
    "    'a_BL_mean' : 2,\n",
    "    'a_BL_median' : 3,\n",
    "    'e_BL_mean' : 4,\n",
    "    'e_BL_median' : 5,\n",
    "    'e_BL_var' : 6,\n",
    "    'i_BL_mean_1': 7,\n",
    "    'i_BL_median_1': 8,\n",
    "    'ie_BL_median_1' : 9,\n",
    "    'i_BL_mean_2' : 10,\n",
    "    'i_BL_median_2' : 11,\n",
    "    'i_BL_var_2' : 12,\n",
    "    'ie_BL_mean_2' : 13,\n",
    "    'ie_BL_median_2' : 14,\n",
    "    'ie_BL_var_2' : 15,\n",
    "    'i_BL_mean_3' : 16,\n",
    "    'i_BL_median_3' : 17,\n",
    "    'i_BL_var_3' : 18,\n",
    "    'ie_BL_median_3' : 19,\n",
    "    'colless' : 20,\n",
    "    'WD_ratio' : 21,\n",
    "    'delta_w' : 22,\n",
    "    'max_ladder' : 23,\n",
    "    'IL_nodes' : 24,\n",
    "    'staircaseness_1' : 25,\n",
    "    'staircaseness_2' : 26,\n",
    "    'pi' : 27,\n",
    "    'theta_w' : 28,\n",
    "    'tajimas_d' : 29,\n",
    "    'h1' : 30,\n",
    "    'h2_h1' : 31,\n",
    "    'haplotype_diversity' : 32,\n",
    "    'allele_freq_var' : 33,\n",
    "    'n_individuals' : 34,\n",
    "    'mutation_rate' : 35\n",
    "}"
   ],
   "metadata": {
    "collapsed": false,
    "ExecuteTime": {
     "end_time": "2023-08-09T13:32:44.576284Z",
     "start_time": "2023-08-09T13:32:44.572892Z"
    }
   }
  },
  {
   "cell_type": "code",
   "execution_count": 412,
   "outputs": [],
   "source": [
    "import os\n",
    "ov = []\n",
    "_path = '/Users/berk/Projects/jlees/data/truth_data'\n",
    "for folder in os.listdir(_path):\n",
    "    f_dict= {}\n",
    "    for file in os.listdir(os.path.join(_path, folder)):\n",
    "        file_path = os.path.join(_path, folder, file)\n",
    "        with open(file_path, 'r') as fh:\n",
    "            f_dict.update(json.load(fh))\n",
    "        f_dict.update({'n_individuals' : 5000000})\n",
    "    ov.append(f_dict)\n"
   ],
   "metadata": {
    "collapsed": false,
    "ExecuteTime": {
     "end_time": "2023-08-09T13:32:45.109294Z",
     "start_time": "2023-08-09T13:32:45.097987Z"
    }
   }
  },
  {
   "cell_type": "code",
   "execution_count": 419,
   "outputs": [],
   "source": [
    "empty_array = np.zeros([12, len(nn_model_indices)], dtype=np.float32)"
   ],
   "metadata": {
    "collapsed": false,
    "ExecuteTime": {
     "end_time": "2023-08-09T13:35:28.284051Z",
     "start_time": "2023-08-09T13:35:28.278118Z"
    }
   }
  },
  {
   "cell_type": "code",
   "execution_count": 420,
   "outputs": [],
   "source": [
    "out_df = pd.DataFrame(empty_array, columns=nn_model_indices, dtype=np.float32)"
   ],
   "metadata": {
    "collapsed": false,
    "ExecuteTime": {
     "end_time": "2023-08-09T13:35:44.376566Z",
     "start_time": "2023-08-09T13:35:44.365384Z"
    }
   }
  },
  {
   "cell_type": "code",
   "execution_count": 421,
   "outputs": [],
   "source": [
    "for idx, _dict in enumerate(ov):\n",
    "    for key in nn_model_indices.keys():\n",
    "        out_df[key][idx] = _dict[key]"
   ],
   "metadata": {
    "collapsed": false,
    "ExecuteTime": {
     "end_time": "2023-08-09T13:35:46.107751Z",
     "start_time": "2023-08-09T13:35:46.077876Z"
    }
   }
  },
  {
   "cell_type": "code",
   "execution_count": 422,
   "outputs": [],
   "source": [
    "###Save df\n",
    "out_df.to_csv(os.path.join(_path, 'truth_data_stats.csv'), index=False)"
   ],
   "metadata": {
    "collapsed": false,
    "ExecuteTime": {
     "end_time": "2023-08-09T13:41:56.473802Z",
     "start_time": "2023-08-09T13:41:56.443238Z"
    }
   }
  },
  {
   "cell_type": "code",
   "execution_count": null,
   "outputs": [],
   "source": [],
   "metadata": {
    "collapsed": false
   }
  }
 ],
 "metadata": {
  "kernelspec": {
   "display_name": "Python 3",
   "language": "python",
   "name": "python3"
  },
  "language_info": {
   "codemirror_mode": {
    "name": "ipython",
    "version": 2
   },
   "file_extension": ".py",
   "mimetype": "text/x-python",
   "name": "python",
   "nbconvert_exporter": "python",
   "pygments_lexer": "ipython2",
   "version": "2.7.6"
  }
 },
 "nbformat": 4,
 "nbformat_minor": 0
}
